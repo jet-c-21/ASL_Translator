{
 "cells": [
  {
   "cell_type": "code",
   "execution_count": 12,
   "id": "f11b15f3-7ce9-499f-9aba-24e696117b22",
   "metadata": {},
   "outputs": [],
   "source": [
    "import tensorflow as tf\n",
    "from tensorflow.keras import layers, models"
   ]
  },
  {
   "cell_type": "markdown",
   "id": "cd0c857b-b168-4c00-b597-ec27e0c26266",
   "metadata": {},
   "source": [
    "# Paper: Sign Language Alphabet Recognition Using Convolution Neural Network"
   ]
  },
  {
   "cell_type": "markdown",
   "id": "8ca8a0e4-e104-4f15-8e3c-a16558185388",
   "metadata": {
    "jp-MarkdownHeadingCollapsed": true,
    "tags": []
   },
   "source": [
    "A. input conv layer:\n",
    "- filter count = 32\n",
    "- filter size = 3x3\n",
    "- strides = 1\n",
    "- No padding\n",
    "- input_image: (28, 28, 1)\n",
    "- *output batch-normalized\n",
    "\n",
    "B. MaxPooling\n",
    "- (2, 2)\n",
    "\n",
    "C. #2 conv layer\n",
    "- filter count = 64\n",
    "- filter size = 3x3\n",
    "- strides = 1\n",
    "- No padding\n",
    "- *dropout = 0.2\n",
    "- *output batch-normalized\n",
    "\n",
    "D. #2 MaxPooling\n",
    "- (2, 2)\n",
    "\n",
    "E. #3 conv layer\n",
    "- filter count = 128\n",
    "- filter size = 3x3\n",
    "- strides = 1\n",
    "- No padding\n",
    "\n",
    "F. #3 MaxPooling\n",
    "- (2, 2)\n",
    "\n",
    "G. Flatten\n",
    "\n",
    "H. Dense\n",
    "- unit count = 512\n",
    "- activate = 'relu'\n",
    "- *dropout = 0.25\n",
    "\n",
    "I. Output Dense Layer\n",
    "- output class = 25\n",
    "- activate = 'softmax'"
   ]
  },
  {
   "cell_type": "markdown",
   "id": "8fe287fc-e572-467f-9087-dba179191bf3",
   "metadata": {},
   "source": [
    "# Model-1 the original one as the paper"
   ]
  },
  {
   "cell_type": "code",
   "execution_count": 13,
   "id": "a437eaf5-089f-4df6-ba68-44decb2481dd",
   "metadata": {},
   "outputs": [],
   "source": [
    "def get_model_1():\n",
    "    model = models.Sequential()\n",
    "\n",
    "    model.add(layers.Conv2D(32, (3, 3), strides=(1, 1), activation='relu', input_shape=(28, 28, 1)))\n",
    "    model.add(layers.BatchNormalization())\n",
    "\n",
    "    model.add(layers.MaxPool2D((2, 2)))\n",
    "\n",
    "    model.add(layers.Conv2D(64, (3, 3), strides=(1, 1), activation='relu'))\n",
    "    model.add(layers.Dropout(0.2))\n",
    "    model.add(layers.BatchNormalization())\n",
    "\n",
    "    model.add(layers.MaxPool2D((2, 2)))\n",
    "\n",
    "    model.add(layers.Conv2D(128, (3, 3), strides=(1, 1), activation='relu'))\n",
    "    model.add(layers.BatchNormalization())\n",
    "    model.add(layers.MaxPool2D((2, 2)))\n",
    "\n",
    "    # finish feature extraction\n",
    "    model.add(layers.Flatten())\n",
    "\n",
    "    model.add(layers.Dense(512, activation='relu'))\n",
    "    model.add(layers.Dropout(0.25))\n",
    "\n",
    "    model.add(layers.Dense(25, activation='softmax'))\n",
    "\n",
    "    return model"
   ]
  },
  {
   "cell_type": "code",
   "execution_count": 14,
   "id": "e6c4838e-97a8-4a57-ac23-d2dcb2c3f2ef",
   "metadata": {},
   "outputs": [
    {
     "name": "stdout",
     "output_type": "stream",
     "text": [
      "Model: \"sequential_3\"\n",
      "_________________________________________________________________\n",
      " Layer (type)                Output Shape              Param #   \n",
      "=================================================================\n",
      " conv2d_9 (Conv2D)           (None, 26, 26, 32)        320       \n",
      "                                                                 \n",
      " batch_normalization_9 (Batc  (None, 26, 26, 32)       128       \n",
      " hNormalization)                                                 \n",
      "                                                                 \n",
      " max_pooling2d_9 (MaxPooling  (None, 13, 13, 32)       0         \n",
      " 2D)                                                             \n",
      "                                                                 \n",
      " conv2d_10 (Conv2D)          (None, 11, 11, 64)        18496     \n",
      "                                                                 \n",
      " dropout_5 (Dropout)         (None, 11, 11, 64)        0         \n",
      "                                                                 \n",
      " batch_normalization_10 (Bat  (None, 11, 11, 64)       256       \n",
      " chNormalization)                                                \n",
      "                                                                 \n",
      " max_pooling2d_10 (MaxPoolin  (None, 5, 5, 64)         0         \n",
      " g2D)                                                            \n",
      "                                                                 \n",
      " conv2d_11 (Conv2D)          (None, 3, 3, 128)         73856     \n",
      "                                                                 \n",
      " batch_normalization_11 (Bat  (None, 3, 3, 128)        512       \n",
      " chNormalization)                                                \n",
      "                                                                 \n",
      " max_pooling2d_11 (MaxPoolin  (None, 1, 1, 128)        0         \n",
      " g2D)                                                            \n",
      "                                                                 \n",
      " flatten_3 (Flatten)         (None, 128)               0         \n",
      "                                                                 \n",
      " dense_6 (Dense)             (None, 512)               66048     \n",
      "                                                                 \n",
      " dropout_6 (Dropout)         (None, 512)               0         \n",
      "                                                                 \n",
      " dense_7 (Dense)             (None, 25)                12825     \n",
      "                                                                 \n",
      "=================================================================\n",
      "Total params: 172,441\n",
      "Trainable params: 171,993\n",
      "Non-trainable params: 448\n",
      "_________________________________________________________________\n"
     ]
    }
   ],
   "source": [
    "get_model_1().summary()"
   ]
  },
  {
   "cell_type": "markdown",
   "id": "2e57e0e0-770f-46f9-a41e-3ae4de6f2c79",
   "metadata": {},
   "source": [
    "# Model-2 (modified from Model-1)\n",
    "#### Cuz it's not recommend to add dropout soon after the ConvLayer"
   ]
  },
  {
   "cell_type": "code",
   "execution_count": 15,
   "id": "4c510cc1-e87a-4726-be10-b361d9758940",
   "metadata": {},
   "outputs": [],
   "source": [
    "def get_model_2():\n",
    "    model = models.Sequential()\n",
    "\n",
    "    model.add(layers.Conv2D(32, (3, 3), strides=(1, 1), activation='relu', input_shape=(28, 28, 1)))\n",
    "    model.add(layers.BatchNormalization())\n",
    "\n",
    "    model.add(layers.MaxPool2D((2, 2)))\n",
    "\n",
    "    model.add(layers.Conv2D(64, (3, 3), strides=(1, 1), activation='relu'))\n",
    "    model.add(layers.BatchNormalization())\n",
    "\n",
    "    model.add(layers.MaxPool2D((2, 2)))\n",
    "\n",
    "    model.add(layers.Conv2D(128, (3, 3), strides=(1, 1), activation='relu'))\n",
    "    model.add(layers.BatchNormalization())\n",
    "    model.add(layers.MaxPool2D((2, 2)))\n",
    "\n",
    "    # finish feature extraction\n",
    "    model.add(layers.Flatten())\n",
    "\n",
    "    model.add(layers.Dense(512, activation='relu'))\n",
    "    model.add(layers.Dropout(0.5)) # 0.25 -> 0.5\n",
    "    \n",
    "    # new dense layer\n",
    "    model.add(layers.Dense(256, activation='relu'))\n",
    "    model.add(layers.Dropout(0.25))\n",
    "    \n",
    "    model.add(layers.Dense(25, activation='softmax'))\n",
    "\n",
    "    return model"
   ]
  },
  {
   "cell_type": "code",
   "execution_count": 16,
   "id": "5c3d7559-0a28-45a6-9bac-ae23dac0480c",
   "metadata": {},
   "outputs": [
    {
     "name": "stdout",
     "output_type": "stream",
     "text": [
      "Model: \"sequential_4\"\n",
      "_________________________________________________________________\n",
      " Layer (type)                Output Shape              Param #   \n",
      "=================================================================\n",
      " conv2d_12 (Conv2D)          (None, 26, 26, 32)        320       \n",
      "                                                                 \n",
      " batch_normalization_12 (Bat  (None, 26, 26, 32)       128       \n",
      " chNormalization)                                                \n",
      "                                                                 \n",
      " max_pooling2d_12 (MaxPoolin  (None, 13, 13, 32)       0         \n",
      " g2D)                                                            \n",
      "                                                                 \n",
      " conv2d_13 (Conv2D)          (None, 11, 11, 64)        18496     \n",
      "                                                                 \n",
      " batch_normalization_13 (Bat  (None, 11, 11, 64)       256       \n",
      " chNormalization)                                                \n",
      "                                                                 \n",
      " max_pooling2d_13 (MaxPoolin  (None, 5, 5, 64)         0         \n",
      " g2D)                                                            \n",
      "                                                                 \n",
      " conv2d_14 (Conv2D)          (None, 3, 3, 128)         73856     \n",
      "                                                                 \n",
      " batch_normalization_14 (Bat  (None, 3, 3, 128)        512       \n",
      " chNormalization)                                                \n",
      "                                                                 \n",
      " max_pooling2d_14 (MaxPoolin  (None, 1, 1, 128)        0         \n",
      " g2D)                                                            \n",
      "                                                                 \n",
      " flatten_4 (Flatten)         (None, 128)               0         \n",
      "                                                                 \n",
      " dense_8 (Dense)             (None, 512)               66048     \n",
      "                                                                 \n",
      " dropout_7 (Dropout)         (None, 512)               0         \n",
      "                                                                 \n",
      " dense_9 (Dense)             (None, 256)               131328    \n",
      "                                                                 \n",
      " dropout_8 (Dropout)         (None, 256)               0         \n",
      "                                                                 \n",
      " dense_10 (Dense)            (None, 25)                6425      \n",
      "                                                                 \n",
      "=================================================================\n",
      "Total params: 297,369\n",
      "Trainable params: 296,921\n",
      "Non-trainable params: 448\n",
      "_________________________________________________________________\n"
     ]
    }
   ],
   "source": [
    "get_model_2().summary()"
   ]
  },
  {
   "cell_type": "code",
   "execution_count": null,
   "id": "0fb8dbf5-3d0f-4a78-b9ac-b5b5b00584f7",
   "metadata": {},
   "outputs": [],
   "source": []
  }
 ],
 "metadata": {
  "kernelspec": {
   "display_name": "ASLT",
   "language": "python",
   "name": "aslt"
  },
  "language_info": {
   "codemirror_mode": {
    "name": "ipython",
    "version": 3
   },
   "file_extension": ".py",
   "mimetype": "text/x-python",
   "name": "python",
   "nbconvert_exporter": "python",
   "pygments_lexer": "ipython3",
   "version": "3.8.12"
  }
 },
 "nbformat": 4,
 "nbformat_minor": 5
}
