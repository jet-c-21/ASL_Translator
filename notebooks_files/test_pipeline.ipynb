{
 "cells": [
  {
   "cell_type": "code",
   "execution_count": 1,
   "id": "faddd61f-c023-4291-81d5-3896b696ea9f",
   "metadata": {},
   "outputs": [],
   "source": [
    "from image_pipeline import *\n",
    "from image_pipeline.preprocessing import img_show, img_plt_save\n",
    "from cv2 import cv2\n",
    "import numpy as np"
   ]
  },
  {
   "cell_type": "code",
   "execution_count": 2,
   "id": "f29b8fa9-7a3f-483a-823f-f0de0344f544",
   "metadata": {},
   "outputs": [],
   "source": [
    "image_path = 'img_for_dev/peace_0.jpg'"
   ]
  },
  {
   "cell_type": "code",
   "execution_count": 3,
   "id": "98623862-8f8e-495e-a35d-5ac259b28a8a",
   "metadata": {},
   "outputs": [],
   "source": [
    "image = cv2.imread(image_path)"
   ]
  },
  {
   "cell_type": "code",
   "execution_count": 4,
   "id": "39d2434f-3c23-41c9-a7f4-64a92706443a",
   "metadata": {},
   "outputs": [
    {
     "name": "stdout",
     "output_type": "stream",
     "text": [
      "[INFO] - model loaded\n",
      "CPU times: user 2.34 s, sys: 726 ms, total: 3.06 s\n",
      "Wall time: 3.22 s\n"
     ]
    }
   ],
   "source": [
    "%%time\n",
    "bgr = BgRemover()\n",
    "bgr.load_model()"
   ]
  },
  {
   "cell_type": "markdown",
   "id": "78cc4a0f-e15e-4e4e-9336-2a820ed694e0",
   "metadata": {},
   "source": [
    "# pipeline_2()"
   ]
  },
  {
   "cell_type": "code",
   "execution_count": 5,
   "id": "fc9ccafa-6065-432c-a9ac-2654de0b9087",
   "metadata": {},
   "outputs": [],
   "source": [
    "img = pipeline_2(image, bgr)"
   ]
  },
  {
   "cell_type": "code",
   "execution_count": 6,
   "id": "b1763356-929b-4e46-8e9a-ac9fe4d1ef65",
   "metadata": {},
   "outputs": [
    {
     "data": {
      "image/png": "[encoded data removed]",
      "text/plain": [
       "<Figure size 432x288 with 1 Axes>"
      ]
     },
     "metadata": {
      "needs_background": "light"
     },
     "output_type": "display_data"
    }
   ],
   "source": [
    "img_show(img)"
   ]
  },
  {
   "cell_type": "markdown",
   "id": "879eb347-8ecf-4de5-b8a0-5ec3ee8f50fd",
   "metadata": {},
   "source": [
    "# pipeline_5()"
   ]
  },
  {
   "cell_type": "code",
   "execution_count": 7,
   "id": "efc47c5c-acd4-4f52-88af-76ab63a1262c",
   "metadata": {},
   "outputs": [
    {
     "name": "stderr",
     "output_type": "stream",
     "text": [
      "INFO: Created TensorFlow Lite XNNPACK delegate for CPU.\n"
     ]
    }
   ],
   "source": [
    "img = pipeline_5(image, bgr)"
   ]
  },
  {
   "cell_type": "code",
   "execution_count": 8,
   "id": "e3da8985-c80f-4675-83fa-c4bcb4505c00",
   "metadata": {},
   "outputs": [
    {
     "data": {
      "image/png": "[encoded data removed]",
      "text/plain": [
       "<Figure size 432x288 with 1 Axes>"
      ]
     },
     "metadata": {
      "needs_background": "light"
     },
     "output_type": "display_data"
    }
   ],
   "source": [
    "img_show(img)"
   ]
  },
  {
   "cell_type": "markdown",
   "id": "6f0d6b60-dcde-4076-9395-6c5da7f00888",
   "metadata": {},
   "source": [
    "# pipeline_base()"
   ]
  },
  {
   "cell_type": "code",
   "execution_count": 9,
   "id": "512c233f-dd27-4353-8d85-df0b65d8cda3",
   "metadata": {},
   "outputs": [],
   "source": [
    "img = pipeline_base(image, bgr)"
   ]
  },
  {
   "cell_type": "code",
   "execution_count": 10,
   "id": "633dc361-30e3-4a14-99dc-2579f4f99524",
   "metadata": {},
   "outputs": [
    {
     "data": {
      "image/png": "[encoded data removed]",
      "text/plain": [
       "<Figure size 432x288 with 1 Axes>"
      ]
     },
     "metadata": {
      "needs_background": "light"
     },
     "output_type": "display_data"
    }
   ],
   "source": [
    "img_show(img)"
   ]
  },
  {
   "cell_type": "markdown",
   "id": "fec52a32-1713-4d4d-aa09-42001a2f94a3",
   "metadata": {},
   "source": [
    "# t_pipeline_a()"
   ]
  },
  {
   "cell_type": "code",
   "execution_count": 11,
   "id": "4e514d28-b546-4cb4-8db6-d70b6f425729",
   "metadata": {},
   "outputs": [],
   "source": [
    "img = t_pipeline_a(image, bgr)"
   ]
  },
  {
   "cell_type": "code",
   "execution_count": 12,
   "id": "1ffc4171-06cb-464c-b041-9054438b842c",
   "metadata": {},
   "outputs": [
    {
     "data": {
      "image/png": "[encoded data removed]",
      "text/plain": [
       "<Figure size 432x288 with 1 Axes>"
      ]
     },
     "metadata": {
      "needs_background": "light"
     },
     "output_type": "display_data"
    }
   ],
   "source": [
    "img_show(img)"
   ]
  },
  {
   "cell_type": "code",
   "execution_count": null,
   "id": "30a64ece-ba1b-45ed-bab0-45ca30a43396",
   "metadata": {},
   "outputs": [],
   "source": []
  }
 ],
 "metadata": {
  "kernelspec": {
   "display_name": "ASLT",
   "language": "python",
   "name": "aslt"
  },
  "language_info": {
   "codemirror_mode": {
    "name": "ipython",
    "version": 3
   },
   "file_extension": ".py",
   "mimetype": "text/x-python",
   "name": "python",
   "nbconvert_exporter": "python",
   "pygments_lexer": "ipython3",
   "version": "3.8.12"
  }
 },
 "nbformat": 4,
 "nbformat_minor": 5
}
